{
 "cells": [
  {
   "cell_type": "markdown",
   "id": "169a57a3-17be-46c6-b0bf-4814888d620f",
   "metadata": {},
   "source": [
    "# 安装与导入"
   ]
  },
  {
   "cell_type": "code",
   "execution_count": null,
   "id": "ddae2068-14cc-4775-823b-000ca838aa8a",
   "metadata": {},
   "outputs": [],
   "source": [
    "\n",
    "# import\n",
    "\n",
    "import pyautogui\n"
   ]
  },
  {
   "cell_type": "markdown",
   "id": "847ef254-23a4-4766-912e-384b57c7f468",
   "metadata": {},
   "source": [
    "# 坐标系统与屏幕信息"
   ]
  },
  {
   "cell_type": "code",
   "execution_count": null,
   "id": "e6250c80-1380-4a51-9b24-4e72133f3743",
   "metadata": {},
   "outputs": [],
   "source": [
    "\n",
    "# 获取屏幕分辨率\n",
    "\n",
    "pyautogui.size()\n"
   ]
  },
  {
   "cell_type": "code",
   "execution_count": null,
   "id": "8e688d4b-a99a-469d-a930-c4186262a9f3",
   "metadata": {},
   "outputs": [],
   "source": [
    "\n",
    "# 获取当前鼠标位置\n",
    "\n",
    "pyautogui.position()\n"
   ]
  },
  {
   "cell_type": "code",
   "execution_count": null,
   "id": "34d43c0c-e840-4bda-9e43-a959441a2c47",
   "metadata": {},
   "outputs": [],
   "source": [
    "\n",
    "# 判断坐标是否在屏幕内\n",
    "\n",
    "pyautogui.onScreen(100, 200)\n"
   ]
  },
  {
   "cell_type": "markdown",
   "id": "dcdeb4a6-0200-4a11-ae2c-1d25440d4532",
   "metadata": {},
   "source": [
    "# 鼠标控制"
   ]
  },
  {
   "cell_type": "code",
   "execution_count": null,
   "id": "ad6a3916-d299-4505-af9a-160bc8eadb04",
   "metadata": {},
   "outputs": [],
   "source": [
    "\n",
    "# 移动到指定坐标（左上角为0，0坐标。以这个为基础进行定位操作）\n",
    "\n",
    "pyautogui.moveTo(1855, 500)\n"
   ]
  },
  {
   "cell_type": "code",
   "execution_count": null,
   "id": "06bb0118-a430-4d91-8a2e-acd172d3d53e",
   "metadata": {},
   "outputs": [],
   "source": [
    "\n",
    "# 指定时间内平滑移动\n",
    "\n",
    "\n",
    "pyautogui.moveTo(500, 500, duration=1)\n"
   ]
  },
  {
   "cell_type": "code",
   "execution_count": null,
   "id": "22e609b8-a947-4607-ac7c-3aefd74ff6f0",
   "metadata": {},
   "outputs": [],
   "source": [
    "\n",
    "# 相对当前位置移动\n",
    "\n",
    "pyautogui.move(200, 200)\n"
   ]
  },
  {
   "cell_type": "code",
   "execution_count": null,
   "id": "55600af8-8a2e-4dd2-ad66-b6e2f83eec6f",
   "metadata": {},
   "outputs": [],
   "source": [
    "\n",
    "# 拖动到目标坐标（拖文件、滑动进度条/滑块）\n",
    "\n",
    "pyautogui.moveTo(1855, 500)\n",
    "pyautogui.dragTo(1855, 300, duration=1, button='left')\n"
   ]
  },
  {
   "cell_type": "code",
   "execution_count": null,
   "id": "bc0bdf03-004c-43e8-9bda-419635d7d195",
   "metadata": {},
   "outputs": [],
   "source": [
    "\n",
    "# 相对拖动\n",
    "\n",
    "pyautogui.moveTo(1855, 600)\n",
    "pyautogui.drag(0, -300, duration=1, button='left')\n"
   ]
  },
  {
   "cell_type": "code",
   "execution_count": null,
   "id": "f98de849-dbbd-4558-8e78-17ffac73f2d4",
   "metadata": {},
   "outputs": [],
   "source": [
    "\n",
    "# 点击：左键三击，每次间隔四分之一秒\n",
    "\n",
    "pyautogui.click(x=964, y=1056, button='left', clicks=3, interval=0.25)\n"
   ]
  },
  {
   "cell_type": "code",
   "execution_count": null,
   "id": "0a069f59-9d9c-41b9-942a-3802d0ca429f",
   "metadata": {},
   "outputs": [],
   "source": [
    "\n",
    "# 按下松开鼠标\n",
    "\n",
    "pyautogui.moveTo(1220, 1050)\n",
    "pyautogui.mouseDown(button='left')\n",
    "pyautogui.mouseUp(x=1220, y=1050, button='left') \n"
   ]
  },
  {
   "cell_type": "code",
   "execution_count": null,
   "id": "e8b45c20-5441-4362-9a6f-805472c6f030",
   "metadata": {},
   "outputs": [],
   "source": [
    "\n",
    "# 滚轮滚动，正负表示上下左右，xy代表先移动到固定位置再滚动\n",
    "\n",
    "pyautogui.moveTo(50, 300)\n",
    "pyautogui.click()\n",
    "pyautogui.scroll(700)\n"
   ]
  },
  {
   "cell_type": "code",
   "execution_count": null,
   "id": "2ecb3f59-2025-4f42-aa6d-d2a5172991b8",
   "metadata": {},
   "outputs": [],
   "source": [
    "\n",
    "# 左右滚动\n",
    "\n",
    "pyautogui.hscroll(10)\n",
    "pyautogui.hscroll(-10)\n"
   ]
  },
  {
   "cell_type": "markdown",
   "id": "d0cb1a42-2a6a-4505-b2ee-2d653b1753a2",
   "metadata": {},
   "source": [
    "# 键盘控制"
   ]
  },
  {
   "cell_type": "code",
   "execution_count": null,
   "id": "d43215cd-151d-42d9-8e2e-ef577e42aaa8",
   "metadata": {},
   "outputs": [],
   "source": [
    "\n",
    "# 键盘键入，interval每个字符之间输入的时间间隔。write() 只能用于单字符键，无法用于如 Shift、F1 等功能键。\n",
    "\n",
    "pyautogui.moveTo(431, 888)\n",
    "pyautogui.click()\n",
    "pyautogui.write('Hello world!', interval=0.25)\n"
   ]
  },
  {
   "cell_type": "code",
   "execution_count": null,
   "id": "bdfefa21-8643-496c-8d70-673e75469c51",
   "metadata": {},
   "outputs": [],
   "source": [
    "pyautogui.position()"
   ]
  },
  {
   "cell_type": "code",
   "execution_count": null,
   "id": "95e82159-1473-4e70-a2dd-f82f40755d12",
   "metadata": {},
   "outputs": [],
   "source": [
    "\n",
    "# 模拟键盘按键\n",
    "\n",
    "pyautogui.press('f1') \n"
   ]
  },
  {
   "cell_type": "code",
   "execution_count": null,
   "id": "e98c298b-1303-4217-98c9-929730b927ce",
   "metadata": {},
   "outputs": [],
   "source": [
    "\n",
    "# press() 实际上是对 keyDown() 和 keyUp() 的封装\n",
    "\n",
    "pyautogui.keyDown('shift')  \n",
    "pyautogui.press('left')  \n",
    "pyautogui.press('left')  \n",
    "pyautogui.press('left')  \n",
    "pyautogui.keyUp('shift')\n"
   ]
  },
  {
   "cell_type": "code",
   "execution_count": null,
   "id": "6d2a7a4a-ba46-45c7-92dc-32317237e70b",
   "metadata": {},
   "outputs": [],
   "source": [
    "\n",
    "# 连续多次按同一个键\n",
    "\n",
    "pyautogui.press(['left', 'left', 'left'])  \n",
    "pyautogui.press('left', presses=3)\n"
   ]
  },
  {
   "cell_type": "code",
   "execution_count": null,
   "id": "11c88752-6e0b-4a2b-b389-129cc625c3b2",
   "metadata": {},
   "outputs": [],
   "source": [
    "\n",
    "# hold()保持按住某个键，等同于再循环开始和结束手动调用 keyDown('shift') 和 keyUp('shift')\n",
    "\n",
    "with pyautogui.hold('shift'):\n",
    "    pyautogui.press(['left', 'left', 'left'])\n",
    "    "
   ]
  },
  {
   "cell_type": "code",
   "execution_count": null,
   "id": "adecf84f-eb6b-40a1-84ac-e53d773e2302",
   "metadata": {},
   "outputs": [],
   "source": [
    "\n",
    "# 模拟组合键或快捷键。它会按顺序压下传入的键，并再反向释放它们\n",
    "\n",
    "pyautogui.hotkey('ctrl', 'shift', 'esc')\n",
    "\n",
    "# 相当于\n",
    "\n",
    "pyautogui.keyDown('ctrl')\n",
    "pyautogui.keyDown('shift')\n",
    "pyautogui.keyDown('esc')\n",
    "pyautogui.keyUp('esc')\n",
    "pyautogui.keyUp('shift')\n",
    "pyautogui.keyUp('ctrl')\n"
   ]
  },
  {
   "cell_type": "code",
   "execution_count": null,
   "id": "4e967364-1f8a-4273-8364-e878ed9fcea1",
   "metadata": {},
   "outputs": [],
   "source": [
    "\n",
    "# press()、keyDown()、keyUp() 和 hotkey() 的有效键名列表\n",
    "\n",
    "['\\t', '\\n', '\\r', ' ', '!', '\"', '#', '$', '%', '&', \"'\", '(',\n",
    "')', '*', '+', ',', '-', '.', '/', '0', '1', '2', '3', '4', '5', '6', '7',\n",
    "'8', '9', ':', ';', '<', '=', '>', '?', '@', '[', '\\\\', ']', '^', '_', '`',\n",
    "'a', 'b', 'c', 'd', 'e','f', 'g', 'h', 'i', 'j', 'k', 'l', 'm', 'n', 'o',\n",
    "'p', 'q', 'r', 's', 't', 'u', 'v', 'w', 'x', 'y', 'z', '{', '|', '}', '~',\n",
    "'accept', 'add', 'alt', 'altleft', 'altright', 'apps', 'backspace',\n",
    "'browserback', 'browserfavorites', 'browserforward', 'browserhome',\n",
    "'browserrefresh', 'browsersearch', 'browserstop', 'capslock', 'clear',\n",
    "'convert', 'ctrl', 'ctrlleft', 'ctrlright', 'decimal', 'del', 'delete',\n",
    "'divide', 'down', 'end', 'enter', 'esc', 'escape', 'execute', 'f1', 'f10',\n",
    "'f11', 'f12', 'f13', 'f14', 'f15', 'f16', 'f17', 'f18', 'f19', 'f2', 'f20',\n",
    "'f21', 'f22', 'f23', 'f24', 'f3', 'f4', 'f5', 'f6', 'f7', 'f8', 'f9',\n",
    "'final', 'fn', 'hanguel', 'hangul', 'hanja', 'help', 'home', 'insert', 'junja',\n",
    "'kana', 'kanji', 'launchapp1', 'launchapp2', 'launchmail',\n",
    "'launchmediaselect', 'left', 'modechange', 'multiply', 'nexttrack',\n",
    "'nonconvert', 'num0', 'num1', 'num2', 'num3', 'num4', 'num5', 'num6',\n",
    "'num7', 'num8', 'num9', 'numlock', 'pagedown', 'pageup', 'pause', 'pgdn',\n",
    "'pgup', 'playpause', 'prevtrack', 'print', 'printscreen', 'prntscrn',\n",
    "'prtsc', 'prtscr', 'return', 'right', 'scrolllock', 'select', 'separator',\n",
    "'shift', 'shiftleft', 'shiftright', 'sleep', 'space', 'stop', 'subtract', 'tab',\n",
    "'up', 'volumedown', 'volumemute', 'volumeup', 'win', 'winleft', 'winright', 'yen',\n",
    "'command', 'option', 'optionleft', 'optionright']\n"
   ]
  },
  {
   "cell_type": "markdown",
   "id": "d3c833db-13e4-46b9-8d23-621d65bcf2c8",
   "metadata": {},
   "source": [
    "# 消息盒子，与用户互动"
   ]
  },
  {
   "cell_type": "code",
   "execution_count": null,
   "id": "a2ae05fa-acc2-4895-94ac-b918ae586244",
   "metadata": {},
   "outputs": [],
   "source": [
    "\n",
    "# 显示一个简单的消息框，带有文本和一个单一的确定按钮。返回点击的按钮的文本。\n",
    "\n",
    "pyautogui.alert(text='工作已经完成。', title='提醒', button='OK')\n"
   ]
  },
  {
   "cell_type": "code",
   "execution_count": null,
   "id": "df530743-2835-4a23-a8f1-be56a7119349",
   "metadata": {},
   "outputs": [],
   "source": [
    "\n",
    "# 显示带有确定和取消按钮的消息框。按钮的数量和文本可以自定义。返回点击的按钮的文本。\n",
    "\n",
    "pyautogui.confirm(text='是否进行下一步？', title='提示', buttons=['OK', 'Cancel'])\n"
   ]
  },
  {
   "cell_type": "code",
   "execution_count": null,
   "id": "3ecde5c8-1ab0-4fde-9af0-5ba9024c079b",
   "metadata": {},
   "outputs": [],
   "source": [
    "\n",
    "# 显示一个带有文本输入的消息框，以及确定和取消按钮。返回输入的文本，如果点击了取消，则返回 None。\n",
    "\n",
    "pyautogui.prompt(text='', title='请输入！' , default='请输入你的名字')\n"
   ]
  },
  {
   "cell_type": "code",
   "execution_count": null,
   "id": "4e978563-11db-4c59-b6c1-fb6dd3234692",
   "metadata": {},
   "outputs": [],
   "source": [
    "\n",
    "# 显示一个带有文本输入的消息框，并包含确定和取消按钮。输入的字符将显示为 *。返回输入的文本，如果点击了取消，则返回 None.\n",
    "\n",
    "pyautogui.password(text='', title='密码', default='', mask='*')\n"
   ]
  },
  {
   "cell_type": "markdown",
   "id": "0490dc09-0273-4f1b-bd95-233f3b9c463d",
   "metadata": {},
   "source": [
    "# 截屏功能"
   ]
  },
  {
   "cell_type": "code",
   "execution_count": null,
   "id": "0c192532-3a19-4cc6-9566-0907ca44cef1",
   "metadata": {},
   "outputs": [],
   "source": [
    "\n",
    "# 截取屏幕，传入文件名的会同时保存截屏的图片\n",
    "\n",
    "im1 = pyautogui.screenshot()\n",
    "im2 = pyautogui.screenshot('my_screenshot.png')\n"
   ]
  },
  {
   "cell_type": "code",
   "execution_count": null,
   "id": "9f8ea164-c9ef-4950-849d-77ea9bad020d",
   "metadata": {},
   "outputs": [],
   "source": [
    "\n",
    "# 截取指定的部位\n",
    "\n",
    "im3 = pyautogui.screenshot('my_screenshot.png', region=(1190,1041, 30, 30))\n"
   ]
  },
  {
   "cell_type": "code",
   "execution_count": null,
   "id": "be16c856-6ea4-4d7d-8ed7-24c20ec96695",
   "metadata": {},
   "outputs": [],
   "source": [
    "\n",
    "# pyautogui.locateAllOnScreen('calc7key.png') 会返回一个生成器，产生屏幕上所有与图像匹配的区域的左、顶、宽、高，左顶宽高传入center() 函数会输出这个区域的中心坐标\n",
    "\n",
    "Wechatlocation = pyautogui.locateOnScreen('my_screenshot.png')\n",
    "Wechatlocation\n",
    "Wechatlocation[0]\n",
    "Wechatlocation.left\n",
    "\n",
    "Wechatpoint = pyautogui.center(Wechatlocation)\n",
    "Wechatpoint\n",
    "Wechatpoint[0]\n",
    "Wechatpoint.x\n",
    "\n",
    "Wechatx, Wechaty = Wechatpoint\n",
    "pyautogui.click(Wechatx, Wechaty) \n"
   ]
  },
  {
   "cell_type": "code",
   "execution_count": null,
   "id": "2e33236f-a554-44ee-8239-f3f3394ac987",
   "metadata": {},
   "outputs": [],
   "source": [
    "\n",
    "# 直接传入图片路径进行点击\n",
    "\n",
    "pyautogui.click('my_screenshot.png') \n"
   ]
  },
  {
   "cell_type": "code",
   "execution_count": null,
   "id": "dc573a6f-b2cd-41ce-b19a-3c3b23e2113f",
   "metadata": {},
   "outputs": [],
   "source": [
    "\n",
    "# , confidence=0.9信息准确度，越高要求准确度越高，越难定位。注意：您需要安装 OpenCV 才能使置信度关键字正常工作。\n",
    "\n",
    "Wechatlocation = pyautogui.locateOnScreen('my_screenshot.png', confidence=0.9)\n"
   ]
  },
  {
   "cell_type": "code",
   "execution_count": null,
   "id": "7959ba4b-9c0f-4079-aa6e-106c45d38b84",
   "metadata": {},
   "outputs": [],
   "source": [
    "\n",
    "# 直接获取中心点\n",
    "\n",
    "x, y = pyautogui.locateCenterOnScreen('my_screenshot.png')\n",
    "pyautogui.click(x, y)\n"
   ]
  },
  {
   "cell_type": "code",
   "execution_count": null,
   "id": "733f341d-d220-42fc-b543-1c52ab7f60f1",
   "metadata": {},
   "outputs": [],
   "source": [
    "\n",
    "# 只检查屏幕一小部分区域\n",
    "\n",
    "Wechatlocation = pyautogui.locateOnScreen('my_screenshot.png', region=(0,1041, 2000, 100))\n",
    "Wechatlocation\n"
   ]
  },
  {
   "cell_type": "code",
   "execution_count": null,
   "id": "f7949ec5-942b-4ece-87ba-1586efb5edaf",
   "metadata": {},
   "outputs": [],
   "source": [
    "\n",
    "# 去饱和之后定位，增加速度，降低精确性\n",
    "\n",
    "Wechatlocation = pyautogui.locateOnScreen('my_screenshot.png', grayscale=True)\n",
    "Wechatlocation\n"
   ]
  },
  {
   "cell_type": "code",
   "execution_count": null,
   "id": "76e0c180-c384-4ef0-9906-fa97d7436272",
   "metadata": {},
   "outputs": [],
   "source": [
    "\n",
    "# 其它几个图像搜索函数\n",
    "\n",
    "# locateOnScreen(image, grayscale=False)：返回屏幕上第一实例图像的 (left, top, width, height) 坐标。如果在屏幕上未找到，则引发 ImageNotFoundException。\n",
    "# locateCenterOnScreen(image, grayscale=False)：返回屏幕上第一实例图像中心的 (x, y) 坐标。如果在屏幕上未找到，则引发 ImageNotFoundException。\n",
    "# locateAllOnScreen(image, grayscale=False)：返回一个生成器，产生图像在屏幕上找到的位置的 (left, top, width, height) 元组。\n",
    "# locate(needleImage, haystackImage, grayscale=False)：返回在 haystackImage 中第一次找到的 needleImage 的 (left, top, width, height) 坐标。如果在屏幕上未找到，则引发 ImageNotFoundException。\n",
    "# locateAll(needleImage, haystackImage, grayscale=False)：返回一个生成器，产生 needleImage 在 haystackImage 中找到的位置的 (left, top, width, height) 元组.\n",
    "\n",
    "for pos in pyautogui.locateAllOnScreen('someButton.png')\n",
    "    print(pos)\n"
   ]
  },
  {
   "cell_type": "code",
   "execution_count": null,
   "id": "b7e0a58e-993d-42c2-8fd7-6b946e0cfefc",
   "metadata": {},
   "outputs": [],
   "source": [
    "\n",
    "# 获取截图中一个像素点的RGB值\n",
    "\n",
    "im = pyautogui.screenshot()\n",
    "im.getpixel((100, 200))\n"
   ]
  },
  {
   "cell_type": "code",
   "execution_count": null,
   "id": "a5bdd398-2249-402a-9dcc-60ddc3fba533",
   "metadata": {},
   "outputs": [],
   "source": [
    "\n",
    "# 上一步获取截图中像素点颜色值的封装\n",
    "\n",
    "pix = pyautogui.pixel(100, 200)\n",
    "pix\n"
   ]
  },
  {
   "cell_type": "code",
   "execution_count": null,
   "id": "70766ad6-7845-4555-9600-f1976711ee1b",
   "metadata": {},
   "outputs": [],
   "source": [
    "\n",
    "# 获取指定像素点的颜色值，并判断是否和给定颜色值一致\n",
    "\n",
    "pyautogui.pixelMatchesColor(100, 200, (238, 238, 238))\n",
    "# pyautogui.pixelMatchesColor(100, 200, (130, 135, 144))"
   ]
  },
  {
   "cell_type": "code",
   "execution_count": null,
   "id": "b59f45b6-62b2-4086-997f-17dcc6bff28b",
   "metadata": {},
   "outputs": [],
   "source": [
    "# tolerance=10允许的容差\n",
    "\n",
    "pyautogui.pixelMatchesColor(100, 200, (230, 230, 230), tolerance=10)\n"
   ]
  },
  {
   "cell_type": "markdown",
   "id": "bce4ca76-7204-4c9f-a30c-f9aa87dd983b",
   "metadata": {},
   "source": [
    "# 窗口操作"
   ]
  },
  {
   "cell_type": "code",
   "execution_count": 2,
   "id": "4cc47c2b-2842-468b-9b16-1305a4ad364c",
   "metadata": {},
   "outputs": [],
   "source": [
    "\n",
    "# import\n",
    "\n",
    "import pygetwindow as gw\n"
   ]
  },
  {
   "cell_type": "code",
   "execution_count": 3,
   "id": "f2659052-f84a-4ee8-9e5a-245184c170d4",
   "metadata": {},
   "outputs": [
    {
     "data": {
      "text/plain": [
       "['',\n",
       " '',\n",
       " '',\n",
       " 'Untitled20 和另外 3 个页面 - 个人 - Microsoft\\u200b Edge',\n",
       " '',\n",
       " 'Anaconda Prompt',\n",
       " 'USCertReg',\n",
       " '传防科电脑 - 文件资源管理器',\n",
       " '',\n",
       " '状态监视器',\n",
       " 'Windows 输入体验',\n",
       " '',\n",
       " '',\n",
       " '',\n",
       " '',\n",
       " '',\n",
       " '',\n",
       " 'Clash for Windows',\n",
       " '微信',\n",
       " '',\n",
       " 'Jupyter Notebook',\n",
       " 'Program Manager']"
      ]
     },
     "execution_count": 3,
     "metadata": {},
     "output_type": "execute_result"
    }
   ],
   "source": [
    "\n",
    "# 获取所有可见窗口的标题和名称\n",
    "\n",
    "gw.getAllTitles()\n"
   ]
  },
  {
   "cell_type": "code",
   "execution_count": 4,
   "id": "4302f8ac-f580-4486-8859-1edd9e852ade",
   "metadata": {},
   "outputs": [
    {
     "data": {
      "text/plain": [
       "[Win32Window(hWnd=2296262),\n",
       " Win32Window(hWnd=132980),\n",
       " Win32Window(hWnd=65758),\n",
       " Win32Window(hWnd=1116426),\n",
       " Win32Window(hWnd=63113970),\n",
       " Win32Window(hWnd=2164034),\n",
       " Win32Window(hWnd=132080),\n",
       " Win32Window(hWnd=2296054),\n",
       " Win32Window(hWnd=67750),\n",
       " Win32Window(hWnd=66424),\n",
       " Win32Window(hWnd=131174),\n",
       " Win32Window(hWnd=65892),\n",
       " Win32Window(hWnd=65884),\n",
       " Win32Window(hWnd=65858),\n",
       " Win32Window(hWnd=65856),\n",
       " Win32Window(hWnd=65854),\n",
       " Win32Window(hWnd=65852),\n",
       " Win32Window(hWnd=66986),\n",
       " Win32Window(hWnd=1769688),\n",
       " Win32Window(hWnd=3869142),\n",
       " Win32Window(hWnd=4196632),\n",
       " Win32Window(hWnd=65796)]"
      ]
     },
     "execution_count": 4,
     "metadata": {},
     "output_type": "execute_result"
    }
   ],
   "source": [
    "\n",
    "# 返回所有“顶层可见窗口”。对这些窗口可以进行放大关闭缩小操作\n",
    "\n",
    "gw.getAllWindows()\n"
   ]
  },
  {
   "cell_type": "code",
   "execution_count": 5,
   "id": "a8159237-91ae-4910-8fe3-3762b23cb4f1",
   "metadata": {},
   "outputs": [
    {
     "data": {
      "text/plain": [
       "[Win32Window(hWnd=1116426)]"
      ]
     },
     "execution_count": 5,
     "metadata": {},
     "output_type": "execute_result"
    }
   ],
   "source": [
    "\n",
    "# 返回标题中包含 \"Untitled\" 的第一个窗口对象。\n",
    "\n",
    "gw.getWindowsWithTitle('Untitled')\n"
   ]
  },
  {
   "cell_type": "code",
   "execution_count": 9,
   "id": "de7dd0ee-a82f-4764-80c9-c271908ad3f4",
   "metadata": {},
   "outputs": [
    {
     "data": {
      "text/plain": [
       "Win32Window(hWnd=1116426)"
      ]
     },
     "execution_count": 9,
     "metadata": {},
     "output_type": "execute_result"
    }
   ],
   "source": [
    "\n",
    "# 获取当前聚焦窗口（官方rst文件教程里面的函数名已不是最新函数名，我在库函数文件里面找的最新的）\n",
    "\n",
    "gw.getActiveWindow()\n"
   ]
  },
  {
   "cell_type": "code",
   "execution_count": 10,
   "id": "5b659ffe-2eb8-4253-8817-8e6a50897569",
   "metadata": {},
   "outputs": [
    {
     "data": {
      "text/plain": [
       "'Untitled20 和另外 3 个页面 - 个人 - Microsoft\\u200b Edge'"
      ]
     },
     "execution_count": 10,
     "metadata": {},
     "output_type": "execute_result"
    }
   ],
   "source": [
    "\n",
    "# 获取聚集窗口的标题和名称\n",
    " \n",
    "gw.getActiveWindowTitle()\n"
   ]
  },
  {
   "cell_type": "code",
   "execution_count": 11,
   "id": "606c0228-318a-4f7a-9bae-7e2a5418ad2d",
   "metadata": {},
   "outputs": [
    {
     "data": {
      "text/plain": [
       "[Win32Window(hWnd=1116426),\n",
       " Win32Window(hWnd=67750),\n",
       " Win32Window(hWnd=131174),\n",
       " Win32Window(hWnd=65796)]"
      ]
     },
     "execution_count": 11,
     "metadata": {},
     "output_type": "execute_result"
    }
   ],
   "source": [
    "\n",
    "# 返回窗口的矩形区域覆盖了这个坐标点的可见顶层窗口\n",
    "\n",
    "gw.getWindowsAt(10, 10)\n"
   ]
  },
  {
   "cell_type": "code",
   "execution_count": 13,
   "id": "f04b9dbd-864f-41ee-ba32-a6d3c102ffae",
   "metadata": {},
   "outputs": [
    {
     "data": {
      "text/plain": [
       "Win32Window(hWnd=1769688)"
      ]
     },
     "execution_count": 13,
     "metadata": {},
     "output_type": "execute_result"
    }
   ],
   "source": [
    "\n",
    "# 获取一个窗口对象\n",
    "\n",
    "notepadWindow = gw.getWindowsWithTitle('微信')[0]\n",
    "notepadWindow\n"
   ]
  },
  {
   "cell_type": "code",
   "execution_count": 14,
   "id": "5cd0cd59-a895-4533-973e-b3c37c64ac18",
   "metadata": {},
   "outputs": [
    {
     "data": {
      "text/plain": [
       "False"
      ]
     },
     "execution_count": 14,
     "metadata": {},
     "output_type": "execute_result"
    }
   ],
   "source": [
    "\n",
    "# 是否事最大化窗口\n",
    "\n",
    "notepadWindow.isMaximized\n"
   ]
  },
  {
   "cell_type": "code",
   "execution_count": 15,
   "id": "3371e582-8e7f-49e0-b31b-48b268b760e8",
   "metadata": {},
   "outputs": [
    {
     "data": {
      "text/plain": [
       "True"
      ]
     },
     "execution_count": 15,
     "metadata": {},
     "output_type": "execute_result"
    }
   ],
   "source": [
    "\n",
    "# 最大化窗口\n",
    "\n",
    "notepadWindow.maximize()\n",
    "notepadWindow.isMaximized\n"
   ]
  },
  {
   "cell_type": "code",
   "execution_count": 17,
   "id": "0db6b844-33cf-4144-b7da-7ec97fb1f916",
   "metadata": {},
   "outputs": [],
   "source": [
    "\n",
    "# 从最小化或最大化窗口恢复\n",
    "\n",
    "notepadWindow.restore()\n"
   ]
  },
  {
   "cell_type": "code",
   "execution_count": 22,
   "id": "8455919e-8307-4c92-b238-ee9d5de5ba59",
   "metadata": {},
   "outputs": [],
   "source": [
    "\n",
    "# 最小化窗口\n",
    "\n",
    "notepadWindow.minimize()\n"
   ]
  },
  {
   "cell_type": "code",
   "execution_count": 23,
   "id": "69128d96-6a1b-4615-bce0-02468be98a29",
   "metadata": {},
   "outputs": [],
   "source": [
    "\n",
    "notepadWindow.restore()\n"
   ]
  },
  {
   "cell_type": "code",
   "execution_count": 67,
   "id": "f4714ce3-63f8-4e36-a36d-e20393dbb60c",
   "metadata": {},
   "outputs": [],
   "source": [
    "\n",
    "# 聚焦这个窗口，会被windows安全阻碍，操作无法成功\n",
    "\n",
    "notepadWindow.restore()\n",
    "notepadWindow.show()\n",
    "notepadWindow.activate()\n"
   ]
  },
  {
   "cell_type": "code",
   "execution_count": 39,
   "id": "c3bd04c2-97de-420b-aa2a-8f0cdc849aac",
   "metadata": {},
   "outputs": [],
   "source": [
    "\n",
    "# 在原有基础上扩大窗口\n",
    "\n",
    "notepadWindow.resize(20, 20)\n"
   ]
  },
  {
   "cell_type": "code",
   "execution_count": 46,
   "id": "583aca1c-582d-472e-890c-889b95de5b53",
   "metadata": {},
   "outputs": [],
   "source": [
    "\n",
    "# 设置窗口到统一大小\n",
    "\n",
    "notepadWindow.resizeTo(500, 700)\n"
   ]
  },
  {
   "cell_type": "code",
   "execution_count": 42,
   "id": "eb4185b4-5542-4f31-bff7-98460983159e",
   "metadata": {},
   "outputs": [],
   "source": [
    "\n",
    "# 相对移动\n",
    "\n",
    "notepadWindow.move(10, 10)\n"
   ]
  },
  {
   "cell_type": "code",
   "execution_count": 43,
   "id": "c120955e-25bf-41c8-9833-82af2fabe4fc",
   "metadata": {},
   "outputs": [],
   "source": [
    "\n",
    "# 绝对移动\n",
    "\n",
    "notepadWindow.moveTo(10, 10)\n"
   ]
  },
  {
   "cell_type": "code",
   "execution_count": 48,
   "id": "646b2403-01ee-453b-9879-ff864c34d660",
   "metadata": {},
   "outputs": [
    {
     "name": "stdout",
     "output_type": "stream",
     "text": [
      "Size(width=700, height=700)\n",
      "700\n",
      "700\n"
     ]
    }
   ],
   "source": [
    "\n",
    "# 获得尺寸\n",
    "\n",
    "print(notepadWindow.size)\n",
    "print(notepadWindow.width)\n",
    "print(notepadWindow.height)\n"
   ]
  },
  {
   "cell_type": "code",
   "execution_count": 49,
   "id": "d6569bca-0566-4029-8ed2-4beb7f7ef288",
   "metadata": {},
   "outputs": [
    {
     "data": {
      "text/plain": [
       "Point(x=746, y=180)"
      ]
     },
     "execution_count": 49,
     "metadata": {},
     "output_type": "execute_result"
    }
   ],
   "source": [
    "\n",
    "# 左上角坐标\n",
    "\n",
    "notepadWindow.topleft\n"
   ]
  },
  {
   "cell_type": "code",
   "execution_count": 50,
   "id": "c1e16417-6437-48e6-8447-8c43754ff59b",
   "metadata": {},
   "outputs": [
    {
     "name": "stdout",
     "output_type": "stream",
     "text": [
      "180\n",
      "746\n",
      "Point(x=1446, y=880)\n"
     ]
    }
   ],
   "source": [
    "\n",
    "print(notepadWindow.top)\n",
    "print(notepadWindow.left)\n",
    "print(notepadWindow.bottomright)\n"
   ]
  },
  {
   "cell_type": "code",
   "execution_count": 51,
   "id": "9572ad01-1659-44bf-950f-d75e34e1c7b9",
   "metadata": {},
   "outputs": [],
   "source": [
    "\n",
    "# 关闭窗口\n",
    "\n",
    "notepadWindow.close()\n"
   ]
  },
  {
   "cell_type": "markdown",
   "id": "163ccf83-26c6-4403-b759-ff12574992d5",
   "metadata": {},
   "source": [
    "# 文本复制粘贴"
   ]
  },
  {
   "cell_type": "code",
   "execution_count": 61,
   "id": "ae22ab7a-79f7-4880-bbec-ae9527f9ee45",
   "metadata": {},
   "outputs": [],
   "source": [
    "\n",
    "# import\n",
    "\n",
    "import pyperclip\n"
   ]
  },
  {
   "cell_type": "code",
   "execution_count": 62,
   "id": "c8fe0efd-4303-43d9-9c0c-df1c0da9561a",
   "metadata": {},
   "outputs": [],
   "source": [
    "\n",
    "# 复制文本到剪贴板\n",
    "\n",
    "pyperclip.copy('Hello, world!')\n"
   ]
  },
  {
   "cell_type": "code",
   "execution_count": 63,
   "id": "67b96c3e-e5af-4942-9708-63d4433edb73",
   "metadata": {},
   "outputs": [
    {
     "data": {
      "text/plain": [
       "'Hello, world!'"
      ]
     },
     "execution_count": 63,
     "metadata": {},
     "output_type": "execute_result"
    }
   ],
   "source": [
    "\n",
    "# 从剪贴板粘贴\n",
    "\n",
    "text = pyperclip.paste()\n",
    "text\n"
   ]
  },
  {
   "cell_type": "code",
   "execution_count": null,
   "id": "d9af66ba-ed3a-48e5-8612-3a6067afcf6f",
   "metadata": {},
   "outputs": [],
   "source": []
  }
 ],
 "metadata": {
  "kernelspec": {
   "display_name": "Python 3 (ipykernel)",
   "language": "python",
   "name": "python3"
  },
  "language_info": {
   "codemirror_mode": {
    "name": "ipython",
    "version": 3
   },
   "file_extension": ".py",
   "mimetype": "text/x-python",
   "name": "python",
   "nbconvert_exporter": "python",
   "pygments_lexer": "ipython3",
   "version": "3.12.4"
  }
 },
 "nbformat": 4,
 "nbformat_minor": 5
}

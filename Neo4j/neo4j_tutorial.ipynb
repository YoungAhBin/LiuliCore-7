{
 "cells": [
  {
   "cell_type": "code",
   "execution_count": null,
   "id": "d8fb59f0-9807-4a84-82df-20833a9c5cb8",
   "metadata": {},
   "outputs": [],
   "source": [
    "\n",
    "# import\n",
    "\n",
    "from neo4j import GraphDatabase\n"
   ]
  },
  {
   "cell_type": "code",
   "execution_count": null,
   "id": "df632456-d7d1-45a3-94e9-ee798b089878",
   "metadata": {},
   "outputs": [],
   "source": [
    "\n",
    "# 连接数据库\n",
    "\n",
    "URI = \"neo4j://localhost:7687\"\n",
    "AUTH = (\"neo4j\", \"#Wwwww3135728\")\n",
    "\n",
    "with GraphDatabase.driver(URI, auth=AUTH) as driver:\n",
    "    driver.verify_connectivity()\n",
    "    print(\"Connection established.\")\n",
    "    "
   ]
  },
  {
   "cell_type": "code",
   "execution_count": null,
   "id": "1867c597-142b-4aea-b19d-ce1bf3354a79",
   "metadata": {},
   "outputs": [],
   "source": [
    "\n",
    "# 创建三元组关系\n",
    "# 图数据库的增、删、改、查都是查询\n",
    "\n",
    "with GraphDatabase.driver(URI, auth=AUTH) as driver:\n",
    "    summary = driver.execute_query(\"\"\"\n",
    "        CREATE (me:Person {name: $person})\n",
    "        CREATE (t1:Trait {name: $trait})\n",
    "        CREATE (me)-[:具有人格类型]->(t1)\n",
    "        \"\"\",\n",
    "        person=\"我\", trait=\"系统型构建者\",\n",
    "        database_=\"neo4j\",\n",
    "    ).summary\n",
    "    print(\"Created {nodes_created} nodes in {time} ms.\".format(\n",
    "        nodes_created=summary.counters.nodes_created,\n",
    "        time=summary.result_available_after\n",
    "    ))\n"
   ]
  },
  {
   "cell_type": "code",
   "execution_count": null,
   "id": "ed4d0613-784f-420a-9306-9300ceca7992",
   "metadata": {},
   "outputs": [],
   "source": [
    "\n",
    "# 查询三元组关系\n",
    "# 给节点赋值变量p，是把查询的节点赋值给变量，后面返回ide时候可以引用。没有赋值变量，将不能引用\n",
    "# 节点结构（变量：标签 {属性}) ,标签可以一样，查询的时候可以按标签查询。标签也叫属性类型\n",
    "# 小括号节点、中括号关系、大括号属性\n",
    "\n",
    "with GraphDatabase.driver(URI, auth=AUTH) as driver:\n",
    "    records, summary, keys = driver.execute_query(\"\"\"\n",
    "        MATCH (p:Person)-[:具有人格类型]->(:Trait)\n",
    "        RETURN p.name AS name\n",
    "        \"\"\",\n",
    "        database_=\"neo4j\",\n",
    "    )\n",
    "    \n",
    "    # Loop through results and do something with them\n",
    "    for record in records:\n",
    "        print(record.data())  # obtain record as dict\n",
    "    \n",
    "    # Summary information\n",
    "    print(\"The query `{query}` returned {records_count} records in {time} ms.\".format(\n",
    "        query=summary.query, records_count=len(records),\n",
    "        time=summary.result_available_after\n",
    "    ))\n"
   ]
  },
  {
   "cell_type": "code",
   "execution_count": null,
   "id": "075a1a07-f6ce-40f7-abd5-9c60d2b5aebe",
   "metadata": {},
   "outputs": [],
   "source": [
    "\n",
    "# 更新数据1\n",
    "\n",
    "with GraphDatabase.driver(URI, auth=AUTH) as driver:\n",
    "    records, summary, keys = driver.execute_query(\"\"\"\n",
    "        MATCH (p:Person {name: $name})\n",
    "        SET p.age = $age\n",
    "        \"\"\", name=\"我\", age=32,\n",
    "        database_=\"neo4j\",\n",
    "    )\n",
    "    print(f\"Query counters: {summary.counters}.\")\n"
   ]
  },
  {
   "cell_type": "code",
   "execution_count": null,
   "id": "a24f46b4-c4ba-4081-b767-06fca68f0d7c",
   "metadata": {},
   "outputs": [],
   "source": [
    "\n",
    "# 更新数据2\n",
    "\n",
    "with GraphDatabase.driver(URI, auth=AUTH) as driver:\n",
    "    records, summary, keys = driver.execute_query(\"\"\"\n",
    "        MATCH (p:Person {name: $name})\n",
    "        CREATE (t2:Trait {name: $friend})\n",
    "        CREATE (p)-[:思维风格]->(t2)\n",
    "        \"\"\", name=\"我\", friend=\"理性而高度结构化\",\n",
    "        database_=\"neo4j\",\n",
    "    )\n",
    "    print(f\"Query counters: {summary.counters}.\")\n"
   ]
  },
  {
   "cell_type": "code",
   "execution_count": null,
   "id": "4097e2cc-121f-4d0c-b879-90b9ea8f4f57",
   "metadata": {},
   "outputs": [],
   "source": [
    "\n",
    "# 删除数据\n",
    "\n",
    "with GraphDatabase.driver(URI, auth=AUTH) as driver:\n",
    "    # 这不仅会删除p，还会删除它的所有关系\n",
    "    records, summary, keys = driver.execute_query(\"\"\"\n",
    "        MATCH (p:Person {name: $name})\n",
    "        DETACH DELETE p\n",
    "        \"\"\", name=\"我\",\n",
    "        database_=\"neo4j\",\n",
    "    )\n",
    "    print(f\"Query counters: {summary.counters}.\")\n"
   ]
  },
  {
   "cell_type": "code",
   "execution_count": null,
   "id": "327c0868-5772-4d7c-8df0-1c2e02c80428",
   "metadata": {},
   "outputs": [],
   "source": [
    "\n",
    "# 传入属性1\n",
    "\n",
    "with GraphDatabase.driver(URI, auth=AUTH) as driver:\n",
    "    driver.execute_query(\n",
    "        \"MERGE (:Person {name: $name})\",\n",
    "        name=\"我\", age=32,\n",
    "        database_=\"neo4j\",\n",
    "    )\n"
   ]
  },
  {
   "cell_type": "code",
   "execution_count": null,
   "id": "e3dacca1-dd6f-461b-a45f-4c8eaf1c15bf",
   "metadata": {},
   "outputs": [],
   "source": [
    "\n",
    "# 传入属性2（字典）\n",
    "\n",
    "with GraphDatabase.driver(URI, auth=AUTH) as driver:\n",
    "    parameters = {\n",
    "        \"name\": \"我\",\n",
    "        \"age\": 32\n",
    "    }\n",
    "    driver.execute_query(\n",
    "        \"MERGE (:Person {name: $name, age: $age})\",\n",
    "        parameters_=parameters,\n",
    "        database_=\"neo4j\",\n",
    "    )\n"
   ]
  },
  {
   "cell_type": "code",
   "execution_count": null,
   "id": "ac44cdee-6652-47ec-97b8-e6636da33988",
   "metadata": {},
   "outputs": [],
   "source": [
    "\n",
    "# 更新关系\n",
    "\n",
    "with GraphDatabase.driver(URI, auth=AUTH) as driver:\n",
    "    records, summary, keys = driver.execute_query(\"\"\"\n",
    "        MATCH (p:Person {name: $name})\n",
    "        MATCH (t1:Trait {name: $trait})\n",
    "        CREATE (p)-[:具有人格类型]->(t1)\n",
    "        \"\"\", name=\"我\", trait=\"系统型构建者\",\n",
    "        database_=\"neo4j\",\n",
    "    )\n",
    "    print(f\"Query counters: {summary.counters}.\")\n"
   ]
  },
  {
   "cell_type": "code",
   "execution_count": null,
   "id": "332cb386-3be9-427b-8ef7-0168b7aa781a",
   "metadata": {},
   "outputs": [],
   "source": [
    "\n",
    "with GraphDatabase.driver(URI, auth=AUTH) as driver:\n",
    "    records, summary, keys = driver.execute_query(\"\"\"\n",
    "        MATCH (p:Person {name: $name})\n",
    "        MATCH (t2:Trait {name: $trait})\n",
    "        CREATE (p)-[:思维风格]->(t2)\n",
    "        \"\"\", name=\"我\", trait=\"理性而高度结构化\",\n",
    "        database_=\"neo4j\",\n",
    "    )\n",
    "    print(f\"Query counters: {summary.counters}.\")\n",
    "    "
   ]
  },
  {
   "cell_type": "code",
   "execution_count": null,
   "id": "5e6e5890-34b4-4f02-913a-53273d0607d6",
   "metadata": {},
   "outputs": [],
   "source": [
    "\n",
    "# 获取错误\n",
    "\n",
    "from neo4j.exceptions import Neo4jError\n",
    "\n",
    "with GraphDatabase.driver(URI, auth=AUTH) as driver:\n",
    "    try:\n",
    "        driver.execute_query('MATCH (p:Person) RETURN', database_='<database-name>')\n",
    "    except Neo4jError as e:\n",
    "        print('Neo4j error code:', e.code)\n",
    "        print('Exception message:', e.message)\n",
    "    "
   ]
  },
  {
   "cell_type": "code",
   "execution_count": null,
   "id": "994aebd4-af1c-47e0-8162-8a48aef32fa6",
   "metadata": {},
   "outputs": [],
   "source": [
    "\n",
    "# 通过关键字参数来定义execute_query函数的行为，如dtabase_，指定查询的数据库\n",
    "\n",
    "with GraphDatabase.driver(URI, auth=AUTH) as driver:\n",
    "    driver.execute_query(\n",
    "        \"MATCH (p:Person) RETURN p.name\",\n",
    "        database_=\"neo4j\",\n",
    "    )\n",
    "    "
   ]
  },
  {
   "cell_type": "code",
   "execution_count": null,
   "id": "72590da9-9d1e-44a8-bd2e-69e2a202af73",
   "metadata": {},
   "outputs": [],
   "source": [
    "\n",
    "# 上面几个函数在创建节点关系的时候就会保存一个只读副本，可以对这个副本进行读取，只读副本请求\n",
    "\n",
    "with GraphDatabase.driver(URI, auth=AUTH) as driver:\n",
    "    driver.execute_query(\n",
    "        \"MATCH (p:Person) RETURN p.name\",\n",
    "        routing_=\"r\",  # short for neo4j.RoutingControl.READ\n",
    "        database_=\"neo4j\",\n",
    "    )\n"
   ]
  },
  {
   "cell_type": "code",
   "execution_count": null,
   "id": "c9bcad86-9ec5-4bc5-96da-3e7fa6a61ef0",
   "metadata": {},
   "outputs": [],
   "source": [
    "\n",
    "# 操作查询结果1（返回列表）\n",
    "\n",
    "with GraphDatabase.driver(URI, auth=AUTH) as driver:\n",
    "    records, summary, keys = driver.execute_query(\n",
    "        \"MATCH (a:Person) RETURN a.name AS name, a.age AS age\",\n",
    "        database_=\"neo4j\",\n",
    "    )\n",
    "    for person in records:\n",
    "        print(person)\n",
    "        # person[\"name\"] or person[\"age\"] are also valid\n",
    "    \n",
    "    # Some summary information\n",
    "    print(\"Query `{query}` returned {records_count} records in {time} ms.\".format(\n",
    "        query=summary.query, records_count=len(records),\n",
    "        time=summary.result_available_after\n",
    "    ))\n",
    "    \n",
    "    print(f\"Available keys are {keys}\")  # ['name', 'age']\n"
   ]
  },
  {
   "cell_type": "code",
   "execution_count": null,
   "id": "97d8200e-6f1c-4e39-9056-c8c3bc808632",
   "metadata": {},
   "outputs": [],
   "source": [
    "\n",
    "# 操作查询结果2（返回df数据格式，通过关键字参数）\n",
    "\n",
    "import neo4j\n",
    "\n",
    "with GraphDatabase.driver(URI, auth=AUTH) as driver:\n",
    "    pandas_df = driver.execute_query(\n",
    "        \"UNWIND range(1, 10) AS n RETURN n, n+1 AS m\",\n",
    "        database_=\"neo4j\",\n",
    "        result_transformer_=neo4j.Result.to_df\n",
    "    )\n",
    "    print(type(pandas_df))  # <class 'pandas.core.frame.DataFrame'>\n"
   ]
  },
  {
   "cell_type": "code",
   "execution_count": 6,
   "id": "61de059c-cb7b-4410-8648-198c11da47ca",
   "metadata": {},
   "outputs": [
    {
     "name": "stdout",
     "output_type": "stream",
     "text": [
      "network.html\n"
     ]
    }
   ],
   "source": [
    "\n",
    "# 操作返回结果（返回图）\n",
    "\n",
    "import pyvis\n",
    "from neo4j import GraphDatabase\n",
    "import neo4j\n",
    "\n",
    "URI = \"neo4j://localhost:7687\"\n",
    "AUTH = (\"neo4j\", \"#Wwwww3135728\")\n",
    "\n",
    "def visualize_result(query_graph, nodes_text_properties):\n",
    "    visual_graph = pyvis.network.Network()\n",
    "\n",
    "    for node in query_graph.nodes:\n",
    "        node_label = list(node.labels)[0]\n",
    "        node_text = node[nodes_text_properties[node_label]]\n",
    "        visual_graph.add_node(node.element_id, node_text, group=node_label)\n",
    "\n",
    "    for relationship in query_graph.relationships:\n",
    "        visual_graph.add_edge(\n",
    "            relationship.start_node.element_id,\n",
    "            relationship.end_node.element_id,\n",
    "            # label=relationship.type,\n",
    "            title=relationship.type\n",
    "        )\n",
    "\n",
    "    visual_graph.show('network.html', notebook=False)\n",
    "\n",
    "# Query to get a graphy result\n",
    "\n",
    "with GraphDatabase.driver(URI, auth=AUTH) as driver:\n",
    "    graph_result = driver.execute_query(\"\"\"\n",
    "        MATCH (n)-[r]->(m) RETURN n, r, m\n",
    "        \"\"\", \n",
    "        result_transformer_=neo4j.Result.graph,\n",
    "    )\n",
    "    \n",
    "    # 告诉程序每种节点类型要显示哪个属性字段作为节点文本\n",
    "    nodes_text_properties = {  # what property to use as text for each node \n",
    "        \"Person\": \"name\",\n",
    "        \"Trait\": \"name\"\n",
    "    }\n",
    "    \n",
    "    visualize_result(graph_result, nodes_text_properties)\n"
   ]
  },
  {
   "cell_type": "code",
   "execution_count": 7,
   "id": "145c35c5-c346-4db8-836b-228f4cff7ae9",
   "metadata": {},
   "outputs": [
    {
     "data": {
      "text/html": [
       "\n",
       "        <iframe\n",
       "            width=\"800\"\n",
       "            height=\"600\"\n",
       "            src=\"network.html\"\n",
       "            frameborder=\"0\"\n",
       "            allowfullscreen\n",
       "            \n",
       "        ></iframe>\n",
       "        "
      ],
      "text/plain": [
       "<IPython.lib.display.IFrame at 0x19422c457f0>"
      ]
     },
     "execution_count": 7,
     "metadata": {},
     "output_type": "execute_result"
    }
   ],
   "source": [
    "\n",
    "from IPython.display import IFrame\n",
    "\n",
    "IFrame('network.html', width=800, height=600)\n"
   ]
  },
  {
   "cell_type": "code",
   "execution_count": null,
   "id": "768e9500-88e8-408b-b9d4-c1a7b471b972",
   "metadata": {},
   "outputs": [],
   "source": []
  }
 ],
 "metadata": {
  "kernelspec": {
   "display_name": "Python 3 (ipykernel)",
   "language": "python",
   "name": "python3"
  },
  "language_info": {
   "codemirror_mode": {
    "name": "ipython",
    "version": 3
   },
   "file_extension": ".py",
   "mimetype": "text/x-python",
   "name": "python",
   "nbconvert_exporter": "python",
   "pygments_lexer": "ipython3",
   "version": "3.12.4"
  }
 },
 "nbformat": 4,
 "nbformat_minor": 5
}
